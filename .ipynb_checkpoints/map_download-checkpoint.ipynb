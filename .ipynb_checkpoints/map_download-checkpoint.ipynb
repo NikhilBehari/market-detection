{
 "cells": [
  {
   "cell_type": "markdown",
   "metadata": {},
   "source": [
    "### Summary \n",
    "This file can be used to download a training set of high-resolution satellite images within a defined map extent. To begin, ensure that the *api_key* is defined. To generate an API key, follow the instructions on the [Maps Static API Developer page](https://developers.google.com/maps/documentation/maps-static/get-api-key). Then, define a *search_extent* for which high-resolution satellite tiles will be downloaded. \n",
    "\n",
    "Search extent may be defined as an extent box in lattitude and longitude pairs. Images are downloaded as 600x600 pixel tiles; while there is no defined stride (no overlap across images), this may be trivially added. The desired output path may also be defined under *save_path*. "
   ]
  },
  {
   "cell_type": "markdown",
   "metadata": {},
   "source": [
    "#### Imports"
   ]
  },
  {
   "cell_type": "code",
   "execution_count": null,
   "metadata": {},
   "outputs": [],
   "source": [
    "from math import cos\n",
    "from math import pi\n",
    "import math"
   ]
  },
  {
   "cell_type": "markdown",
   "metadata": {
    "id": "C0ZjjXKSnTIs"
   },
   "source": [
    "#### Define Maps Static API Constants for Request"
   ]
  },
  {
   "cell_type": "code",
   "execution_count": null,
   "metadata": {
    "id": "1cJNAOZrnS0I"
   },
   "outputs": [],
   "source": [
    "api_key = \"\"\n",
    "\n",
    "# [min_lat, max_lat, min_long, max_long]\n",
    "search_extent = [38.912093, 38.91271, -75.42985,-75.428486]\n",
    "\n",
    "save_path = \"\""
   ]
  },
  {
   "cell_type": "markdown",
   "metadata": {
    "id": "-5MLbDOIjV0w"
   },
   "source": [
    "#### Determine Map Bounds from Extent"
   ]
  },
  {
   "cell_type": "code",
   "execution_count": null,
   "metadata": {
    "id": "YZla4MX7atGb"
   },
   "outputs": [],
   "source": [
    "def get_bounds(c_lat, c_lng, zoom, w, h):\n",
    "\n",
    "    res_lat = (cos(c_lat * pi / 180.0) * 360.0) / (256 * 2 ** zoom)\n",
    "    res_lng = 360.0/(256 * 2 ** zoom)\n",
    "\n",
    "    d_lat = (res_lat * h) / 2\n",
    "    d_lng = (res_lng * w) / 2\n",
    "\n",
    "    return [(c_lat-d_lat, c_lng-d_lng), (c_lat+d_lat, c_lng+d_lng)]"
   ]
  },
  {
   "cell_type": "markdown",
   "metadata": {
    "id": "qaVsu7l1jfgW"
   },
   "source": [
    "#### Set  Request Constants. Requests in 600x600 image sections with a zoom of 18"
   ]
  },
  {
   "cell_type": "code",
   "execution_count": null,
   "metadata": {
    "id": "1Lp9GesPc3JE"
   },
   "outputs": [],
   "source": [
    "centerLat = (search_extent[1] + search_extent[0]) / 2\n",
    "centerLon = (search_extent[3] + search_extent[2]) / 2\n",
    "zoom = 18\n",
    "mapWidth = 600\n",
    "mapHeight = 600\n",
    "strides = get_bounds(centerLat, centerLon, zoom, mapWidth, mapHeight)\n",
    "lat_stride = (strides[1][0] - strides[0][0])\n",
    "lng_stride = (strides[1][1] - strides[0][1])\n",
    "\n",
    "lat_range = search_extent[1] - search_extent[0]\n",
    "lng_range = search_extent[3] - search_extent[2]"
   ]
  },
  {
   "cell_type": "markdown",
   "metadata": {
    "id": "cixvF2PjjdNO"
   },
   "source": [
    "#### Request and Download Images"
   ]
  },
  {
   "cell_type": "code",
   "execution_count": null,
   "metadata": {
    "id": "-0Ib47CBct-n"
   },
   "outputs": [],
   "source": [
    "counter = 1\n",
    "\n",
    "for i in range(math.ceil(lat_range/lat_stride)):\n",
    "\n",
    "    for j in range(math.ceil(lng_range/lng_stride)):\n",
    "        centerLat = search_extent[0] + lat_stride*i\n",
    "        centerLon =search_extent[2] + lng_stride*j\n",
    "        zoom = 18\n",
    "        mapWidth = 600\n",
    "        mapHeight = 600\n",
    "        get_bounds(centerLat, centerLon, zoom, mapWidth, mapHeight)\n",
    "\n",
    "        full_file = (\"https://maps.googleapis.com/maps/api/staticmap?center=\" \n",
    "                  + str(centerLat) \n",
    "                  + \",\" + str(centerLon) + \n",
    "                  \"&zoom=\" + str(zoom) + \n",
    "                  \"&size=\" + str(mapWidth) + \"x\" \n",
    "                  + str(mapHeight) + \n",
    "                  \"&maptype=satellite&key=\" + api_key)\n",
    "\n",
    "        img_data = requests.get(full_file).content\n",
    "        with open(save_path + 'sat_tile' + str(counter) + '.jpg', 'wb') as handler:\n",
    "            handler.write(img_data)\n",
    "\n",
    "        counter += 1"
   ]
  }
 ],
 "metadata": {
  "colab": {
   "collapsed_sections": [],
   "name": "map-download.ipynb",
   "provenance": []
  },
  "kernelspec": {
   "display_name": "Python 3",
   "language": "python",
   "name": "python3"
  },
  "language_info": {
   "codemirror_mode": {
    "name": "ipython",
    "version": 3
   },
   "file_extension": ".py",
   "mimetype": "text/x-python",
   "name": "python",
   "nbconvert_exporter": "python",
   "pygments_lexer": "ipython3",
   "version": "3.7.7"
  }
 },
 "nbformat": 4,
 "nbformat_minor": 1
}
