{
  "nbformat": 4,
  "nbformat_minor": 0,
  "metadata": {
    "colab": {
      "name": "map-download.ipynb",
      "provenance": [],
      "collapsed_sections": []
    },
    "kernelspec": {
      "name": "python3",
      "display_name": "Python 3"
    }
  },
  "cells": [
    {
      "cell_type": "markdown",
      "metadata": {
        "id": "C0ZjjXKSnTIs"
      },
      "source": [
        "Enter Static Maps API key"
      ]
    },
    {
      "cell_type": "code",
      "metadata": {
        "id": "1cJNAOZrnS0I"
      },
      "source": [
        "api_key = \"\""
      ],
      "execution_count": null,
      "outputs": []
    },
    {
      "cell_type": "markdown",
      "metadata": {
        "id": "vnHYBx96jD3i"
      },
      "source": [
        "Define market search extent"
      ]
    },
    {
      "cell_type": "code",
      "metadata": {
        "id": "0_1FkIVNb1DL"
      },
      "source": [
        "# [min_lat, max_lat, min_long, max_long]\n",
        "search_extent = [38.912093, 38.91271, -75.42985,-75.428486]"
      ],
      "execution_count": null,
      "outputs": []
    },
    {
      "cell_type": "markdown",
      "metadata": {
        "id": "qaVsu7l1jfgW"
      },
      "source": [
        "Set Constants. Requests in *600x600* image sections with a zoom of *18*"
      ]
    },
    {
      "cell_type": "code",
      "metadata": {
        "id": "1Lp9GesPc3JE"
      },
      "source": [
        "centerLat = (search_extent[1] + search_extent[0]) / 2\n",
        "centerLon = (search_extent[3] + search_extent[2]) / 2\n",
        "zoom = 18\n",
        "mapWidth = 600\n",
        "mapHeight = 600\n",
        "strides = get_bounds(centerLat, centerLon, zoom, mapWidth, mapHeight)\n",
        "lat_stride = (strides[1][0] - strides[0][0])\n",
        "lng_stride = (strides[1][1] - strides[0][1])\n",
        "\n",
        "lat_range = search_extent[1] - search_extent[0]\n",
        "lng_range = search_extent[3] - search_extent[2]"
      ],
      "execution_count": null,
      "outputs": []
    },
    {
      "cell_type": "markdown",
      "metadata": {
        "id": "cixvF2PjjdNO"
      },
      "source": [
        "Request and Download Images"
      ]
    },
    {
      "cell_type": "code",
      "metadata": {
        "id": "-0Ib47CBct-n"
      },
      "source": [
        "counter = 1\n",
        "\n",
        "for i in range(math.ceil(lat_range/lat_stride)):\n",
        "  for j in range(math.ceil(lng_range/lng_stride)):\n",
        "    centerLat = search_extent[0] + lat_stride*i\n",
        "    centerLon =search_extent[2] + lng_stride*j\n",
        "    zoom = 18\n",
        "    mapWidth = 600\n",
        "    mapHeight = 600\n",
        "    get_static_map_bounds(centerLat, centerLon, zoom, mapWidth, mapHeight)\n",
        "\n",
        "    full_file = (\"https://maps.googleapis.com/maps/api/staticmap?center=\" \n",
        "              + str(centerLat) \n",
        "              + \",\" + str(centerLon) + \n",
        "              \"&zoom=\" + str(zoom) + \n",
        "              \"&size=\" + str(mapWidth) + \"x\" \n",
        "              + str(mapHeight) + \n",
        "              \"&maptype=satellite&key=\" + api_key)\n",
        "\n",
        "    img_data = requests.get(full_file).content\n",
        "    with open('sat_tile' + str(counter) + '.jpg', 'wb') as handler:\n",
        "        handler.write(img_data)\n",
        "\n",
        "    counter += 1"
      ],
      "execution_count": null,
      "outputs": []
    },
    {
      "cell_type": "markdown",
      "metadata": {
        "id": "-5MLbDOIjV0w"
      },
      "source": [
        "Determine Map Bounds"
      ]
    },
    {
      "cell_type": "code",
      "metadata": {
        "id": "YZla4MX7atGb"
      },
      "source": [
        "from math import cos\n",
        "from math import pi\n",
        "import math\n",
        "\n",
        "def get_bounds(lat, lng, zoom, x, y):\n",
        "\n",
        "    z = 256 * 2 ** zoom\n",
        "    res_lat = cos(lat * pi / 180.) * 360. / z\n",
        "    res_lng = 360./z\n",
        "\n",
        "    d_lat = res_lat * sy / 2\n",
        "    d_lng = res_lng * sx / 2\n",
        "\n",
        "    return ((lat-d_lat, lng-d_lng), (lat+d_lat, lng+d_lng))"
      ],
      "execution_count": null,
      "outputs": []
    }
  ]
}